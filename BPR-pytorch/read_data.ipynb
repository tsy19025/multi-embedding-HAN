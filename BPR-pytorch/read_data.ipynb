{
 "cells": [
  {
   "cell_type": "code",
   "execution_count": 1,
   "metadata": {},
   "outputs": [],
   "source": [
    "import pickle\n",
    "import json\n",
    "import time, datetime\n",
    "import numpy as np\n",
    "import torch\n",
    "\n",
    "def read_pickle(file):\n",
    "    with open(file, 'rb') as f:\n",
    "        ret = pickle.load(f)\n",
    "    return ret\n",
    "def read_json(file):\n",
    "    with open(file, 'r') as f:\n",
    "        ret = [json.loads(line) for line in f]\n",
    "    return ret\n",
    "def write_pickle(file, data):\n",
    "    with open(file, 'wb') as fw:\n",
    "        pickle.dump(data, fw)"
   ]
  },
  {
   "cell_type": "code",
   "execution_count": 8,
   "metadata": {},
   "outputs": [],
   "source": [
    "train_data = read_pickle('data/train_data.pickle')\n",
    "test_data = read_pickle('data/test_data.pickle')\n",
    "test_data_neg = read_pickle('data/test_with_neg_sample.pickle')\n",
    "users = read_pickle('data/users-small.pickle')\n",
    "items = read_pickle('data/businesses-small.pickle')"
   ]
  },
  {
   "cell_type": "code",
   "execution_count": 6,
   "metadata": {},
   "outputs": [
    {
     "name": "stdout",
     "output_type": "stream",
     "text": [
      "36692\n",
      "<class 'dict'>\n",
      "{'business_id': 181, 'rate': 1.0, 'user_id': 21, 'timestamp': 1116877827.0}\n"
     ]
    }
   ],
   "source": [
    "print(len(train_data))\n",
    "print(type(train_data[0]))"
   ]
  },
  {
   "cell_type": "code",
   "execution_count": 11,
   "metadata": {},
   "outputs": [
    {
     "name": "stdout",
     "output_type": "stream",
     "text": [
      "648\n"
     ]
    }
   ],
   "source": [
    "print(len(users))"
   ]
  },
  {
   "cell_type": "code",
   "execution_count": 24,
   "metadata": {},
   "outputs": [
    {
     "name": "stdout",
     "output_type": "stream",
     "text": [
      "50\n",
      "26\n",
      "dict_keys(['neg_business_id', 'user_id', 'pos_business_id'])\n"
     ]
    }
   ],
   "source": [
    "print(len(test_data_neg[0]['neg_business_id']))\n",
    "print(len(test_data_neg[0]['pos_business_id']))\n",
    "print(test_data_neg[0].keys())"
   ]
  },
  {
   "cell_type": "code",
   "execution_count": 21,
   "metadata": {},
   "outputs": [
    {
     "name": "stdout",
     "output_type": "stream",
     "text": [
      "100\n",
      "100\n",
      "100\n",
      "100\n",
      "100\n",
      "100\n",
      "100\n",
      "100\n",
      "100\n",
      "100\n"
     ]
    }
   ],
   "source": [
    "path = '/media/bob-lytton/MyData/repos/DLIB_repos/baselines/neural_collaborative_filtering/Data/'\n",
    "cnt = 0\n",
    "with open(path+'ml-1m.test.negative', 'r') as fd:\n",
    "    while cnt < 10:\n",
    "        cnt += 1\n",
    "        line = fd.readline()\n",
    "        arr = line.split('\\t')\n",
    "    #     print(type(arr))\n",
    "    #     print(arr)\n",
    "        print(len(arr))"
   ]
  },
  {
   "cell_type": "code",
   "execution_count": null,
   "metadata": {},
   "outputs": [],
   "source": []
  }
 ],
 "metadata": {
  "kernelspec": {
   "display_name": "Python 3.7.4 64-bit ('Aqua': venv)",
   "language": "python",
   "name": "python37464bitaquavenva3cdc07c9684482984444077e5903bb6"
  },
  "language_info": {
   "codemirror_mode": {
    "name": "ipython",
    "version": 3
   },
   "file_extension": ".py",
   "mimetype": "text/x-python",
   "name": "python",
   "nbconvert_exporter": "python",
   "pygments_lexer": "ipython3",
   "version": "3.7.4"
  }
 },
 "nbformat": 4,
 "nbformat_minor": 2
}
