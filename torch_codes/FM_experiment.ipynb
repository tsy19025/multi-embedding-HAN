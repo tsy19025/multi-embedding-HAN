{
 "cells": [
  {
   "cell_type": "code",
   "execution_count": 3,
   "metadata": {},
   "outputs": [
    {
     "name": "stdout",
     "output_type": "stream",
     "text": [
      "['json', 'adjs', 'run_data.sh', 'data_filter.py', 'output', 'filtered', 'mf_features', 'Notes', 'data.py', 'test_rating.py', 'data_gen.py', 'rates']\n"
     ]
    }
   ],
   "source": [
    "import numpy as np # linear algebra\n",
    "import pandas as pd # data processing, CSV file I/O (e.g. pd.read_csv)\n",
    "import random\n",
    "\n",
    "from sklearn.model_selection import KFold\n",
    "from sklearn.metrics import roc_auc_score\n",
    "\n",
    "import torch\n",
    "import torch.nn as nn\n",
    "from torch.utils.data import TensorDataset, DataLoader\n",
    "\n",
    "import os\n",
    "import copy\n",
    "\n",
    "print(os.listdir(\"../yelp_dataset\"))"
   ]
  },
  {
   "cell_type": "code",
   "execution_count": 4,
   "metadata": {},
   "outputs": [],
   "source": [
    "DEVICE = torch.device(\"cuda\" if torch.cuda.is_available() else \"cpu\")"
   ]
  },
  {
   "cell_type": "code",
   "execution_count": 5,
   "metadata": {},
   "outputs": [],
   "source": [
    "class TorchFM(nn.Module):\n",
    "    def __init__(self, n=None, k=None):\n",
    "        super().__init__()\n",
    "        # Initially we fill V with random values sampled from Gaussian distribution\n",
    "        # NB: use nn.Parameter to compute gradients\n",
    "        self.V = nn.Parameter(torch.randn(n, k),requires_grad=True)\n",
    "        self.lin = nn.Linear(n, 1)\n",
    "\n",
    "        \n",
    "    def forward(self, x):\n",
    "        out_1 = torch.matmul(x, self.V).pow(2).sum(1, keepdim=True) #S_1^2\n",
    "        out_2 = torch.matmul(x.pow(2), self.V.pow(2)).sum(1, keepdim=True) # S_2\n",
    "        \n",
    "        out_inter = 0.5*(out_1 - out_2)\n",
    "        out_lin = self.lin(x)\n",
    "        out = out_inter + out_lin\n",
    "        \n",
    "        return out\n"
   ]
  },
  {
   "cell_type": "code",
   "execution_count": null,
   "metadata": {},
   "outputs": [],
   "source": [
    "# load train data\n",
    "train_df = pd.read_csv('../input/dota-heroes-binary/dota_train_binary_heroes.csv', index_col='match_id_hash')\n",
    "test_df = pd.read_csv('../input/dota-heroes-binary/dota_train_binary_heroes.csv', index_col='match_id_hash')\n",
    "target = pd.read_csv('../input/dota-heroes-binary/train_targets.csv', index_col='match_id_hash')\n",
    "y = target['radiant_win'].values.astype(np.float32)\n",
    "y = y.reshape(-1,1)"
   ]
  },
  {
   "cell_type": "code",
   "execution_count": null,
   "metadata": {},
   "outputs": [],
   "source": [
    "# convert to 32-bit numbers to send to GPU \n",
    "X_train = train_df.values.astype(np.float32)\n",
    "X_test = test_df.values.astype(np.float32)"
   ]
  },
  {
   "cell_type": "code",
   "execution_count": null,
   "metadata": {},
   "outputs": [],
   "source": [
    "# To compute probalities\n",
    "def sigmoid(x):\n",
    "    return 1 / (1 + np.exp(-x))"
   ]
  },
  {
   "cell_type": "code",
   "execution_count": null,
   "metadata": {},
   "outputs": [],
   "source": [
    "# for reproducibility\n",
    "def seed_everything(seed=1234):\n",
    "    random.seed(seed)\n",
    "    os.environ['PYTHONHASHSEED'] = str(seed)\n",
    "    np.random.seed(seed)\n",
    "    torch.manual_seed(seed)\n",
    "    torch.cuda.manual_seed(seed)\n",
    "    torch.backends.cudnn.deterministic = True\n",
    "seed_everything()"
   ]
  },
  {
   "cell_type": "code",
   "execution_count": null,
   "metadata": {},
   "outputs": [],
   "source": [
    "# main training function\n",
    "def train_mlp(X, X_test, y, folds, model_class=None, model_params=None, batch_size=128, epochs=1,\n",
    "              criterion=None, optimizer_class=None, opt_params=None,\n",
    "#               clr=cyclical_lr(10000),\n",
    "              device=None):\n",
    "    \n",
    "    seed_everything()\n",
    "    models = []\n",
    "    scores = []\n",
    "    train_preds = np.zeros(y.shape)\n",
    "    test_preds = np.zeros((X_test.shape[0], 1))\n",
    "    \n",
    "    X_tensor, X_test, y_tensor = torch.from_numpy(X).to(device), torch.from_numpy(X_test).to(device), torch.from_numpy(y).to(device)\n",
    "    for n_fold, (train_ind, valid_ind) in enumerate(folds.split(X, y)):\n",
    "        \n",
    "        print(f'fold {n_fold+1}')\n",
    "        \n",
    "        train_set = TensorDataset(X_tensor[train_ind], y_tensor[train_ind])\n",
    "        valid_set = TensorDataset(X_tensor[valid_ind], y_tensor[valid_ind])\n",
    "        \n",
    "        loaders = {'train': DataLoader(train_set, batch_size=batch_size, shuffle=True),\n",
    "                   'valid': DataLoader(valid_set, batch_size=batch_size, shuffle=False)}\n",
    "        \n",
    "        model = model_class(**model_params)\n",
    "        model.to(device)\n",
    "        best_model_wts = copy.deepcopy(model.state_dict())\n",
    "        \n",
    "        optimizer = optimizer_class(model.parameters(), **opt_params)\n",
    "#         scheduler = torch.optim.lr_scheduler.LambdaLR(optimizer, [clr])\n",
    "        \n",
    "        # training cycle\n",
    "        best_score = 0.\n",
    "        for epoch in range(epochs):\n",
    "            losses = {'train': 0., 'valid': 0}\n",
    "            \n",
    "            for phase in ['train', 'valid']:\n",
    "               \n",
    "                if phase == 'train':\n",
    "                    model.train()\n",
    "                else:\n",
    "                    model.eval()\n",
    "                \n",
    "                for batch_x, batch_y in loaders[phase]:\n",
    "                    optimizer.zero_grad()\n",
    "                    out = model(batch_x)\n",
    "                    loss = criterion(out, batch_y)\n",
    "                    losses[phase] += loss.item()*batch_x.size(0)\n",
    "                    \n",
    "                    with torch.set_grad_enabled(phase == 'train'):\n",
    "                        if phase == 'train':\n",
    "                            loss.backward()\n",
    "#                             scheduler.step()\n",
    "                            optimizer.step()\n",
    "\n",
    "                losses[phase] /= len(loaders[phase].dataset)\n",
    "            \n",
    "            # after each epoch check if we improved roc auc and if yes - save model\n",
    "            with torch.no_grad():\n",
    "                model.eval()\n",
    "                valid_preds = sigmoid(model(X_tensor[valid_ind]).cpu().numpy())\n",
    "                epoch_score = roc_auc_score(y[valid_ind], valid_preds)\n",
    "                if epoch_score > best_score:\n",
    "                    best_model_wts = copy.deepcopy(model.state_dict())\n",
    "                    best_score = epoch_score\n",
    "            \n",
    "            if ((epoch+1) % 30) == 0:\n",
    "                print(f'epoch {epoch+1} train loss: {losses[\"train\"]:.3f} valid loss {losses[\"valid\"]:.3f} valid roc auc {epoch_score:.3f}')\n",
    "        \n",
    "        # prediction on valid set\n",
    "        with torch.no_grad():\n",
    "            model.load_state_dict(best_model_wts)\n",
    "            model.eval()\n",
    "            \n",
    "            train_preds[valid_ind] = sigmoid(model(X_tensor[valid_ind]).cpu().numpy())\n",
    "            fold_score = roc_auc_score(y[valid_ind], train_preds[valid_ind])\n",
    "            scores.append(fold_score)\n",
    "            print(f'Best ROC AUC score {fold_score}')\n",
    "            models.append(model)\n",
    "\n",
    "            test_preds += sigmoid(model(X_test).cpu().numpy())\n",
    "    \n",
    "    print('CV AUC ROC', np.mean(scores), np.std(scores))\n",
    "    \n",
    "    test_preds /= folds.n_splits\n",
    "    \n",
    "    return models, train_preds, test_preds"
   ]
  },
  {
   "cell_type": "code",
   "execution_count": null,
   "metadata": {},
   "outputs": [],
   "source": [
    "folds = KFold(n_splits=5, random_state=17)"
   ]
  },
  {
   "cell_type": "code",
   "execution_count": null,
   "metadata": {},
   "outputs": [],
   "source": [
    "%%time\n",
    "MS, train_preds, test_preds = train_mlp(X_train, X_test, y, folds, \n",
    "                            model_class=TorchFM, \n",
    "                            model_params={'n': X_train.shape[1], 'k': 5}, \n",
    "                            batch_size=1024,\n",
    "                            epochs=300,\n",
    "                            criterion=nn.BCEWithLogitsLoss(),\n",
    "                            optimizer_class=torch.optim.SGD, \n",
    "                            opt_params={'lr': 0.01, 'momentum': 0.9},\n",
    "                            device=DEVICE\n",
    "                            )"
   ]
  },
  {
   "cell_type": "code",
   "execution_count": null,
   "metadata": {},
   "outputs": [],
   "source": []
  }
 ],
 "metadata": {
  "kernelspec": {
   "display_name": "Python 3.5.2 64-bit ('temp_model': venv)",
   "language": "python",
   "name": "python35264bittempmodelvenv9ec91898f3ff45aa8e0abdb47861d6d1"
  },
  "language_info": {
   "codemirror_mode": {
    "name": "ipython",
    "version": 3
   },
   "file_extension": ".py",
   "mimetype": "text/x-python",
   "name": "python",
   "nbconvert_exporter": "python",
   "pygments_lexer": "ipython3",
   "version": "3.5.2"
  }
 },
 "nbformat": 4,
 "nbformat_minor": 2
}
