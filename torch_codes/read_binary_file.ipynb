{
 "cells": [
  {
   "cell_type": "code",
   "execution_count": 1,
   "metadata": {},
   "outputs": [],
   "source": [
    "import pickle\n",
    "import json\n",
    "import time, datetime\n",
    "import numpy as np\n",
    "import torch\n",
    "\n",
    "def read_pickle(file):\n",
    "    with open(file, 'rb') as f:\n",
    "        ret = pickle.load(f)\n",
    "    return ret\n",
    "\n",
    "def read_json(file):\n",
    "    with open(file, 'r') as f:\n",
    "        ret = [json.loads(line) for line in f]\n",
    "    return ret\n",
    "\n",
    "def write_pickle(file, data):\n",
    "    with open(file, 'wb') as fw:\n",
    "        pickle.dump(data, fw)"
   ]
  },
  {
   "cell_type": "code",
   "execution_count": 2,
   "metadata": {},
   "outputs": [],
   "source": [
    "filepath = '../yelp_dataset/filtered/'\n",
    "jsonpath = '../yelp_dataset/json/'"
   ]
  },
  {
   "cell_type": "code",
   "execution_count": 6,
   "metadata": {},
   "outputs": [
    {
     "name": "stdout",
     "output_type": "stream",
     "text": [
      "45865\n"
     ]
    }
   ],
   "source": [
    "# reviews = read_pickle(filepath+'reviews.pickle')\n",
    "reviews = read_pickle(filepath+'reviews-small.pickle')\n",
    "print(len(reviews))"
   ]
  },
  {
   "cell_type": "code",
   "execution_count": 3,
   "metadata": {},
   "outputs": [
    {
     "name": "stdout",
     "output_type": "stream",
     "text": [
      "648\n"
     ]
    }
   ],
   "source": [
    "users_comp = read_pickle(filepath+'users-complete.pickle')\n",
    "# users = read_pickle(filepath+'users-complete.pickle')\n",
    "users = read_pickle(filepath+'users-small.pickle')\n",
    "print(len(users))"
   ]
  },
  {
   "cell_type": "code",
   "execution_count": 4,
   "metadata": {},
   "outputs": [
    {
     "name": "stdout",
     "output_type": "stream",
     "text": [
      "637\n"
     ]
    }
   ],
   "source": [
    "busi_comp = read_pickle(filepath+'businesses-complete.pickle')\n",
    "# businesses = read_pickle(filepath+'businesses-complete.pickle')\n",
    "businesses = read_pickle(filepath+'businesses-small.pickle')\n",
    "print(len(businesses))"
   ]
  },
  {
   "cell_type": "code",
   "execution_count": 14,
   "metadata": {},
   "outputs": [
    {
     "name": "stdout",
     "output_type": "stream",
     "text": [
      "<class 'list'>\n",
      "dict_keys(['text', 'review_id', 'useful', 'cool', 'user_id', 'funny', 'business_id', 'date', 'stars'])\n",
      "45865\n",
      "<class 'list'>\n",
      "dict_keys(['compliment_cute', 'compliment_list', 'compliment_hot', 'name', 'cool', 'review_count', 'average_stars', 'compliment_cool', 'compliment_plain', 'compliment_photos', 'user_id', 'funny', 'compliment_note', 'friends', 'fans', 'elite', 'useful', 'compliment_funny', 'yelping_since', 'compliment_writer', 'compliment_more', 'compliment_profile'])\n",
      "dict_keys(['address', 'is_open', 'hours', 'stars', 'latitude', 'name', 'state', 'postal_code', 'categories', 'city', 'review_count', 'business_id', 'longitude', 'attributes'])\n"
     ]
    }
   ],
   "source": [
    "print(type(reviews))\n",
    "print(reviews[0].keys())\n",
    "print(len(reviews))\n",
    "print(type(users))\n",
    "for u in users:\n",
    "    print(u.keys())\n",
    "    break\n",
    "for b in businesses:\n",
    "    print(b.keys())\n",
    "    break"
   ]
  },
  {
   "cell_type": "markdown",
   "metadata": {},
   "source": [
    "# Compute id2ind and ind2id"
   ]
  },
  {
   "cell_type": "code",
   "execution_count": 10,
   "metadata": {
    "scrolled": true
   },
   "outputs": [],
   "source": [
    "uinds = [i for i in range(len(users))]\n",
    "uid2ind = {user['user_id']:ind for user, ind in zip(users, uinds)}\n",
    "ind2uid = {ind:user['user_id'] for user, ind in zip(users, uinds)}"
   ]
  },
  {
   "cell_type": "code",
   "execution_count": 11,
   "metadata": {},
   "outputs": [],
   "source": [
    "b_inds = [i for i in range(len(businesses))]\n",
    "bid2ind = {business['business_id']:ind for business, ind in zip(businesses, b_inds)}\n",
    "ind2bid = {ind:business['business_id'] for business, ind in zip(businesses, b_inds)}"
   ]
  },
  {
   "cell_type": "code",
   "execution_count": 12,
   "metadata": {},
   "outputs": [],
   "source": [
    "cities = set(busi['city'] for busi in businesses)\n",
    "c_inds = [i for i in range(len(cities))]\n",
    "ct_id2ind = {city:ind for city, ind in zip(cities, c_inds)}\n",
    "ind2ct_id = {ind:city for city, ind in zip(cities, c_inds)}"
   ]
  },
  {
   "cell_type": "code",
   "execution_count": 13,
   "metadata": {},
   "outputs": [
    {
     "name": "stdout",
     "output_type": "stream",
     "text": [
      "7\n",
      "{'Summerlin': 0, 'Dallas': 1, 'Henderson': 5, 'North Las Vegas': 2, 'Spring Valley': 3, 'Las Vegas': 4, 'Boulder City': 6}\n"
     ]
    }
   ],
   "source": [
    "print(len(cities))\n",
    "print(ct_id2ind)"
   ]
  },
  {
   "cell_type": "code",
   "execution_count": 14,
   "metadata": {},
   "outputs": [],
   "source": [
    "categories = set(category.strip() for busi in businesses for category in busi['categories'].split(','))\n",
    "ca_inds = [i for i in range(len(categories))]\n",
    "ca_id2ind = {category:ind for category, ind in zip(categories, ca_inds)}\n",
    "ind2ca_id = {ind:category for category, ind in zip(categories, ca_inds)}"
   ]
  },
  {
   "cell_type": "code",
   "execution_count": 10,
   "metadata": {},
   "outputs": [
    {
     "ename": "NameError",
     "evalue": "name 'categories' is not defined",
     "output_type": "error",
     "traceback": [
      "\u001b[0;31m---------------------------------------------------------------------------\u001b[0m",
      "\u001b[0;31mNameError\u001b[0m                                 Traceback (most recent call last)",
      "\u001b[0;32m<ipython-input-10-15ab3b80ebdf>\u001b[0m in \u001b[0;36m<module>\u001b[0;34m\u001b[0m\n\u001b[0;32m----> 1\u001b[0;31m \u001b[0mprint\u001b[0m\u001b[0;34m(\u001b[0m\u001b[0mlen\u001b[0m\u001b[0;34m(\u001b[0m\u001b[0mcategories\u001b[0m\u001b[0;34m)\u001b[0m\u001b[0;34m)\u001b[0m\u001b[0;34m\u001b[0m\u001b[0m\n\u001b[0m\u001b[1;32m      2\u001b[0m \u001b[0;31m# print(ca_id2ind)\u001b[0m\u001b[0;34m\u001b[0m\u001b[0;34m\u001b[0m\u001b[0m\n",
      "\u001b[0;31mNameError\u001b[0m: name 'categories' is not defined"
     ]
    }
   ],
   "source": [
    "print(len(categories))\n",
    "# print(ca_id2ind)"
   ]
  },
  {
   "cell_type": "markdown",
   "metadata": {},
   "source": [
    "# Split data and compute adj matrix"
   ]
  },
  {
   "cell_type": "code",
   "execution_count": 16,
   "metadata": {},
   "outputs": [],
   "source": [
    "def dataset_split(reviews, userid_to_num, businessid_to_num, train_ratio, valid_ratio, test_ratio, n_neg_sample):\n",
    "    selected_reviews = []\n",
    "    \n",
    "    for review in reviews:\n",
    "        filtered_review = {}\n",
    "        filtered_review['user_id'] = userid_to_num[review['user_id']]\n",
    "        filtered_review['business_id'] = businessid_to_num[review['business_id']]\n",
    "        filtered_review['rate'] = 1.0\n",
    "        filtered_review['timestamp'] = time.mktime(datetime.datetime.strptime(review['date'], '%Y-%m-%d %H:%M:%S').timetuple())\n",
    "        selected_reviews.append(filtered_review)\n",
    "        \n",
    "    selected_reviews_sorted = sorted(selected_reviews, key=lambda k: k['timestamp']) # use the earlier data to train and the later data to test\n",
    "    n_reviews = len(selected_reviews_sorted)\n",
    "    train_size = int(n_reviews*train_ratio)\n",
    "    valid_size = int(n_reviews*valid_ratio)\n",
    "    train_data = [selected_reviews_sorted[index] for index in range(train_size)]\n",
    "    valid_data = [selected_reviews_sorted[index] for index in range(train_size, train_size+valid_size)]\n",
    "    test_data = [selected_reviews_sorted[index] for index in range(train_size+valid_size, n_reviews)]\n",
    "    \n",
    "    selected_users = set()\n",
    "    selected_businesses = set()\n",
    "    for review in train_data:\n",
    "        selected_users.add(review['user_id'])\n",
    "        selected_businesses.add(review['business_id'])\n",
    "        \n",
    "    eval_datas = [valid_data, test_data]\n",
    "#     selected_eval_datas = [[] for _ in range(len(eval_datas))]\n",
    "    selected_eval_datas = [[], []]\n",
    "    for eval_index in range(len(eval_datas)):\n",
    "        eval_data = eval_datas[eval_index]\n",
    "        for review in eval_data:\n",
    "            if review['user_id'] in selected_users and review['business_id'] in selected_businesses:\n",
    "                selected_eval_datas[eval_index].append(review)\n",
    "    selected_valid_data, selected_test_data = selected_eval_datas\n",
    "    \n",
    "    data_list = [train_data, selected_valid_data, selected_test_data]\n",
    "#     data_for_user_list = [{} for _ in range(len(data_list))]\n",
    "    data_for_user_list = [{}, {}, {}]\n",
    "    train_data_for_item = set()\n",
    "    for index in range(len(data_list)):\n",
    "        data = data_list[index]\n",
    "        data_for_user = data_for_user_list[index]\n",
    "        for review in data:\n",
    "            user = review['user_id']\n",
    "            item = review['business_id']\n",
    "            if index == 0:\n",
    "                train_data_for_item.add(item)\n",
    "            if user not in data_for_user:\n",
    "                data_for_user[user] = [item]\n",
    "            else:\n",
    "                data_for_user[user].append(item)\n",
    "    train_data_for_user, valid_data_for_user, test_data_for_user = data_for_user_list # dictionary of user_id:[item_id]\n",
    "    \n",
    "    with_neg_list = [valid_data_for_user, test_data_for_user]\n",
    "#     data_with_neg_list = [[] for _ in range(len(with_neg_list))]\n",
    "    data_with_neg_list = [[], []]\n",
    "    for index in range(len(with_neg_list)):\n",
    "        current_data = with_neg_list[index]\n",
    "        for user in current_data.keys():\n",
    "            if user not in selected_users:\n",
    "                continue\n",
    "            user_eval = {} # a dict\n",
    "            business_set = selected_businesses - set(train_data_for_user[user]) - set(current_data[user]) # items not existed in this user's records\n",
    "            sample_businesses = np.random.choice(list(business_set), size=n_neg_sample, replace=False)    # sample is random.choice\n",
    "            user_eval['user_id'] = user\n",
    "            user_eval['pos_business_id'] = current_data[user]\n",
    "            user_eval['neg_business_id'] = list(sample_businesses)\n",
    "            data_with_neg_list[index].append(user_eval)\n",
    "    valid_with_neg, test_with_neg = data_with_neg_list\n",
    "    \n",
    "    return train_data, selected_valid_data, selected_test_data, valid_with_neg, test_with_neg"
   ]
  },
  {
   "cell_type": "code",
   "execution_count": 17,
   "metadata": {},
   "outputs": [],
   "source": [
    "# get adjs\n",
    "def get_adj_matrix(uid2ind, bid2ind, city_id2ind, cat_id2ind, users, businesses, reviews):\n",
    "    \"\"\"\n",
    "    metapaths: UB, UUB, UBUB, UBCaB, UBCiB\n",
    "    \"\"\"\n",
    "    tot_users = len(uid2ind)  # tot for total\n",
    "    tot_business = len(bid2ind)\n",
    "    tot_city = len(city_id2ind)\n",
    "    tot_category = len(cat_id2ind)\n",
    "    print(tot_users, tot_business, tot_city, tot_category)\n",
    "    #relation U-U\n",
    "    adj_UU = np.zeros([tot_users, tot_users])\n",
    "    adj_UB = np.zeros([tot_users, tot_business])\n",
    "    adj_BCa = np.zeros([tot_business, tot_category])\n",
    "    adj_BCi = np.zeros([tot_business, tot_city])\n",
    "    print(adj_BCi.shape)\n",
    "    for user in users:\n",
    "        if user['user_id'] not in uid2ind:\n",
    "            continue\n",
    "        user_id = uid2ind[user['user_id']]\n",
    "        for friend in user['friends'].split(','):\n",
    "            friend = friend.strip()\n",
    "            if friend in uid2ind:\n",
    "                friend_id = uid2ind[friend]\n",
    "                adj_UU[user_id][friend_id] = 1\n",
    "                adj_UU[friend_id][user_id] = 1\n",
    "    #relation U-P-B\n",
    "    for review in reviews:\n",
    "#         user_id = uid2ind[review['user_id']]\n",
    "#         business_id = bid2ind[review['business_id']]\n",
    "        user_id = review['user_id']\n",
    "        business_id = review['business_id']\n",
    "        adj_UB[user_id][business_id] = 1\n",
    "    #relation B_Ca B_Ci\n",
    "    for business in businesses:\n",
    "        if business['business_id'] not in bid2ind:\n",
    "            continue\n",
    "        business_id = bid2ind[business['business_id']]\n",
    "        city_id = city_id2ind[business['city']]\n",
    "        print(\"business_id: %d, city_id: %d\" % (business_id, city_id))\n",
    "        adj_BCi[business_id][city_id] = 1\n",
    "        \n",
    "        # more than one category for a business\n",
    "        for category in business['categories'].split(','):\n",
    "            category = category.strip()\n",
    "            category_id = cat_id2ind[category]\n",
    "            adj_BCa[business_id][category_id] = 1\n",
    "\n",
    "    #metapath\n",
    "    adj_UUB = adj_UU.dot(adj_UB)\n",
    "\n",
    "    adj_UBU = adj_UB.dot(adj_UB.T)\n",
    "\n",
    "    adj_UBUB = adj_UBU.dot(adj_UB)\n",
    "\n",
    "    adj_UBCa = adj_UB.dot(adj_BCa)\n",
    "    adj_UBCaB = adj_UBCa.dot(adj_BCa.T)\n",
    "\n",
    "    adj_UBCi = adj_UB.dot(adj_BCi)\n",
    "    adj_UBCiB = adj_UBCi.dot(adj_BCi.T)\n",
    "\n",
    "#     adj_UCaB = adj_UCa.dot(adj_CaB)\n",
    "    \n",
    "#     adj_UCiB = adj_UCi.dot(adj_CiB)\n",
    "    \n",
    "    return adj_UB, adj_UUB, adj_UBUB, adj_UBCaB, adj_UBCiB\n"
   ]
  },
  {
   "cell_type": "code",
   "execution_count": 18,
   "metadata": {},
   "outputs": [],
   "source": [
    "train_data, valid_data, test_data, valid_with_neg_sample, test_with_neg_sample \\\n",
    "    = dataset_split(reviews, uid2ind, bid2ind, 0.8, 0.1, 0.1, 50)"
   ]
  },
  {
   "cell_type": "code",
   "execution_count": 22,
   "metadata": {},
   "outputs": [
    {
     "name": "stdout",
     "output_type": "stream",
     "text": [
      "<class 'list'>\n",
      "{'business_id': 181, 'rate': 1.0, 'user_id': 21, 'timestamp': 1116877827.0}\n",
      "{'review_id': 'kbtscdyz6lvrtGjD1quQTg', 'cool': 0, 'user_id': 'FIk4lQQu1eTe2EpzQ4xhBA', 'stars': 4.0, 'date': '2011-11-30 02:11:15', 'business_id': '8mIrX_LrOnAqWsB5JrOojQ', 'funny': 0, 'useful': 0, 'text': 'Like walking back in time, every Saturday morning my sister and I was in a bowling league and after we were done, we\\'d spend a few quarters playing the pin ball machines until our mother came to pick us up.\\n\\nMy sister was daring and play the machines hard, she was afraid of that \"tilt\" showing up and freezing the game.  I, on the other hand was a bit more gentler and wanted to make sure I got my quarter\\'s worth.\\n\\nThis place has rows and rows of machines, some are really old and some are more of a mid 80\\'s theme.  There is even a Ms pac man!  It was fun to spend an afternoon playing the machines and remembering all the fun of my early teen years.'}\n",
      "36692\n"
     ]
    }
   ],
   "source": [
    "print(type(train_data))\n",
    "print(train_data[0])\n",
    "print(reviews[0])\n",
    "print(len(train_data))"
   ]
  },
  {
   "cell_type": "code",
   "execution_count": 23,
   "metadata": {},
   "outputs": [],
   "source": [
    "path = '../yelp_dataset/rates/'\n",
    "filenames = ['train_data', 'valid_data', 'test_data', 'valid_with_neg_sample', 'test_with_neg_sample']\n",
    "objs = [train_data, valid_data, test_data, valid_with_neg_sample, test_with_neg_sample]\n",
    "for file, obj in zip(filenames, objs):\n",
    "    write_pickle(path+file+'.pickle', obj)"
   ]
  },
  {
   "cell_type": "code",
   "execution_count": 24,
   "metadata": {},
   "outputs": [
    {
     "name": "stdout",
     "output_type": "stream",
     "text": [
      "648 637 7 255\n",
      "(637, 7)\n",
      "business_id: 0, city_id: 5\n",
      "business_id: 1, city_id: 4\n",
      "business_id: 2, city_id: 5\n",
      "business_id: 3, city_id: 4\n",
      "business_id: 4, city_id: 4\n",
      "business_id: 5, city_id: 4\n",
      "business_id: 6, city_id: 4\n",
      "business_id: 7, city_id: 4\n",
      "business_id: 8, city_id: 4\n",
      "business_id: 9, city_id: 4\n",
      "business_id: 10, city_id: 5\n",
      "business_id: 11, city_id: 4\n",
      "business_id: 12, city_id: 4\n",
      "business_id: 13, city_id: 4\n",
      "business_id: 14, city_id: 4\n",
      "business_id: 15, city_id: 4\n",
      "business_id: 16, city_id: 4\n",
      "business_id: 17, city_id: 4\n",
      "business_id: 18, city_id: 4\n",
      "business_id: 19, city_id: 4\n",
      "business_id: 20, city_id: 4\n",
      "business_id: 21, city_id: 4\n",
      "business_id: 22, city_id: 4\n",
      "business_id: 23, city_id: 4\n",
      "business_id: 24, city_id: 4\n",
      "business_id: 25, city_id: 4\n",
      "business_id: 26, city_id: 4\n",
      "business_id: 27, city_id: 4\n",
      "business_id: 28, city_id: 4\n",
      "business_id: 29, city_id: 4\n",
      "business_id: 30, city_id: 4\n",
      "business_id: 31, city_id: 4\n",
      "business_id: 32, city_id: 4\n",
      "business_id: 33, city_id: 4\n",
      "business_id: 34, city_id: 4\n",
      "business_id: 35, city_id: 4\n",
      "business_id: 36, city_id: 4\n",
      "business_id: 37, city_id: 4\n",
      "business_id: 38, city_id: 4\n",
      "business_id: 39, city_id: 4\n",
      "business_id: 40, city_id: 4\n",
      "business_id: 41, city_id: 4\n",
      "business_id: 42, city_id: 4\n",
      "business_id: 43, city_id: 4\n",
      "business_id: 44, city_id: 4\n",
      "business_id: 45, city_id: 4\n",
      "business_id: 46, city_id: 4\n",
      "business_id: 47, city_id: 4\n",
      "business_id: 48, city_id: 4\n",
      "business_id: 49, city_id: 5\n",
      "business_id: 50, city_id: 4\n",
      "business_id: 51, city_id: 4\n",
      "business_id: 52, city_id: 4\n",
      "business_id: 53, city_id: 4\n",
      "business_id: 54, city_id: 4\n",
      "business_id: 55, city_id: 4\n",
      "business_id: 56, city_id: 4\n",
      "business_id: 57, city_id: 4\n",
      "business_id: 58, city_id: 4\n",
      "business_id: 59, city_id: 4\n",
      "business_id: 60, city_id: 5\n",
      "business_id: 61, city_id: 4\n",
      "business_id: 62, city_id: 4\n",
      "business_id: 63, city_id: 4\n",
      "business_id: 64, city_id: 4\n",
      "business_id: 65, city_id: 4\n",
      "business_id: 66, city_id: 4\n",
      "business_id: 67, city_id: 4\n",
      "business_id: 68, city_id: 4\n",
      "business_id: 69, city_id: 4\n",
      "business_id: 70, city_id: 4\n",
      "business_id: 71, city_id: 4\n",
      "business_id: 72, city_id: 4\n",
      "business_id: 73, city_id: 4\n",
      "business_id: 74, city_id: 4\n",
      "business_id: 75, city_id: 4\n",
      "business_id: 76, city_id: 2\n",
      "business_id: 77, city_id: 4\n",
      "business_id: 78, city_id: 4\n",
      "business_id: 79, city_id: 4\n",
      "business_id: 80, city_id: 4\n",
      "business_id: 81, city_id: 4\n",
      "business_id: 82, city_id: 4\n",
      "business_id: 83, city_id: 4\n",
      "business_id: 84, city_id: 4\n",
      "business_id: 85, city_id: 4\n",
      "business_id: 86, city_id: 4\n",
      "business_id: 87, city_id: 4\n",
      "business_id: 88, city_id: 4\n",
      "business_id: 89, city_id: 4\n",
      "business_id: 90, city_id: 4\n",
      "business_id: 91, city_id: 4\n",
      "business_id: 92, city_id: 4\n",
      "business_id: 93, city_id: 4\n",
      "business_id: 94, city_id: 4\n",
      "business_id: 95, city_id: 4\n",
      "business_id: 96, city_id: 4\n",
      "business_id: 97, city_id: 4\n",
      "business_id: 98, city_id: 4\n",
      "business_id: 99, city_id: 4\n",
      "business_id: 100, city_id: 4\n",
      "business_id: 101, city_id: 4\n",
      "business_id: 102, city_id: 4\n",
      "business_id: 103, city_id: 4\n",
      "business_id: 104, city_id: 4\n",
      "business_id: 105, city_id: 4\n",
      "business_id: 106, city_id: 5\n",
      "business_id: 107, city_id: 4\n",
      "business_id: 108, city_id: 4\n",
      "business_id: 109, city_id: 4\n",
      "business_id: 110, city_id: 4\n",
      "business_id: 111, city_id: 4\n",
      "business_id: 112, city_id: 4\n",
      "business_id: 113, city_id: 4\n",
      "business_id: 114, city_id: 4\n",
      "business_id: 115, city_id: 5\n",
      "business_id: 116, city_id: 4\n",
      "business_id: 117, city_id: 4\n",
      "business_id: 118, city_id: 4\n",
      "business_id: 119, city_id: 4\n",
      "business_id: 120, city_id: 4\n",
      "business_id: 121, city_id: 4\n",
      "business_id: 122, city_id: 4\n",
      "business_id: 123, city_id: 4\n",
      "business_id: 124, city_id: 4\n",
      "business_id: 125, city_id: 4\n",
      "business_id: 126, city_id: 4\n",
      "business_id: 127, city_id: 4\n",
      "business_id: 128, city_id: 4\n",
      "business_id: 129, city_id: 4\n",
      "business_id: 130, city_id: 4\n",
      "business_id: 131, city_id: 4\n",
      "business_id: 132, city_id: 4\n",
      "business_id: 133, city_id: 4\n",
      "business_id: 134, city_id: 4\n",
      "business_id: 135, city_id: 4\n",
      "business_id: 136, city_id: 4\n",
      "business_id: 137, city_id: 4\n",
      "business_id: 138, city_id: 4\n",
      "business_id: 139, city_id: 4\n",
      "business_id: 140, city_id: 4\n",
      "business_id: 141, city_id: 4\n",
      "business_id: 142, city_id: 4\n",
      "business_id: 143, city_id: 4\n",
      "business_id: 144, city_id: 4\n",
      "business_id: 145, city_id: 4\n",
      "business_id: 146, city_id: 4\n",
      "business_id: 147, city_id: 4\n",
      "business_id: 148, city_id: 5\n",
      "business_id: 149, city_id: 4\n",
      "business_id: 150, city_id: 4\n",
      "business_id: 151, city_id: 4\n",
      "business_id: 152, city_id: 4\n",
      "business_id: 153, city_id: 4\n",
      "business_id: 154, city_id: 5\n",
      "business_id: 155, city_id: 4\n",
      "business_id: 156, city_id: 4\n",
      "business_id: 157, city_id: 4\n",
      "business_id: 158, city_id: 4\n",
      "business_id: 159, city_id: 4\n",
      "business_id: 160, city_id: 4\n",
      "business_id: 161, city_id: 5\n",
      "business_id: 162, city_id: 4\n",
      "business_id: 163, city_id: 4\n",
      "business_id: 164, city_id: 4\n",
      "business_id: 165, city_id: 4\n",
      "business_id: 166, city_id: 4\n",
      "business_id: 167, city_id: 4\n",
      "business_id: 168, city_id: 4\n",
      "business_id: 169, city_id: 4\n",
      "business_id: 170, city_id: 5\n",
      "business_id: 171, city_id: 4\n",
      "business_id: 172, city_id: 5\n",
      "business_id: 173, city_id: 5\n",
      "business_id: 174, city_id: 4\n",
      "business_id: 175, city_id: 4\n",
      "business_id: 176, city_id: 4\n",
      "business_id: 177, city_id: 4\n",
      "business_id: 178, city_id: 4\n",
      "business_id: 179, city_id: 4\n",
      "business_id: 180, city_id: 4\n",
      "business_id: 181, city_id: 4\n",
      "business_id: 182, city_id: 4\n",
      "business_id: 183, city_id: 5\n",
      "business_id: 184, city_id: 4\n",
      "business_id: 185, city_id: 4\n",
      "business_id: 186, city_id: 4\n",
      "business_id: 187, city_id: 4\n",
      "business_id: 188, city_id: 4\n",
      "business_id: 189, city_id: 4\n",
      "business_id: 190, city_id: 4\n",
      "business_id: 191, city_id: 4\n",
      "business_id: 192, city_id: 4\n",
      "business_id: 193, city_id: 4\n",
      "business_id: 194, city_id: 5\n",
      "business_id: 195, city_id: 4\n",
      "business_id: 196, city_id: 4\n",
      "business_id: 197, city_id: 3\n",
      "business_id: 198, city_id: 4\n",
      "business_id: 199, city_id: 4\n",
      "business_id: 200, city_id: 4\n",
      "business_id: 201, city_id: 4\n",
      "business_id: 202, city_id: 1\n",
      "business_id: 203, city_id: 4\n",
      "business_id: 204, city_id: 4\n",
      "business_id: 205, city_id: 4\n",
      "business_id: 206, city_id: 4\n",
      "business_id: 207, city_id: 4\n",
      "business_id: 208, city_id: 4\n",
      "business_id: 209, city_id: 4\n",
      "business_id: 210, city_id: 5\n",
      "business_id: 211, city_id: 4\n",
      "business_id: 212, city_id: 4\n",
      "business_id: 213, city_id: 4\n",
      "business_id: 214, city_id: 4\n",
      "business_id: 215, city_id: 4\n",
      "business_id: 216, city_id: 4\n",
      "business_id: 217, city_id: 4\n",
      "business_id: 218, city_id: 4\n",
      "business_id: 219, city_id: 4\n",
      "business_id: 220, city_id: 4\n",
      "business_id: 221, city_id: 4\n",
      "business_id: 222, city_id: 4\n",
      "business_id: 223, city_id: 4\n",
      "business_id: 224, city_id: 4\n",
      "business_id: 225, city_id: 4\n",
      "business_id: 226, city_id: 4\n",
      "business_id: 227, city_id: 4\n",
      "business_id: 228, city_id: 4\n",
      "business_id: 229, city_id: 4\n",
      "business_id: 230, city_id: 4\n",
      "business_id: 231, city_id: 4\n",
      "business_id: 232, city_id: 4\n",
      "business_id: 233, city_id: 4\n",
      "business_id: 234, city_id: 4\n",
      "business_id: 235, city_id: 4\n",
      "business_id: 236, city_id: 4\n",
      "business_id: 237, city_id: 4\n",
      "business_id: 238, city_id: 4\n",
      "business_id: 239, city_id: 4\n",
      "business_id: 240, city_id: 4\n",
      "business_id: 241, city_id: 4\n",
      "business_id: 242, city_id: 4\n",
      "business_id: 243, city_id: 4\n",
      "business_id: 244, city_id: 4\n",
      "business_id: 245, city_id: 4\n",
      "business_id: 246, city_id: 4\n",
      "business_id: 247, city_id: 4\n",
      "business_id: 248, city_id: 4\n",
      "business_id: 249, city_id: 4\n",
      "business_id: 250, city_id: 4\n",
      "business_id: 251, city_id: 4\n",
      "business_id: 252, city_id: 4\n",
      "business_id: 253, city_id: 4\n",
      "business_id: 254, city_id: 5\n",
      "business_id: 255, city_id: 4\n",
      "business_id: 256, city_id: 4\n",
      "business_id: 257, city_id: 4\n",
      "business_id: 258, city_id: 4\n",
      "business_id: 259, city_id: 4\n",
      "business_id: 260, city_id: 4\n",
      "business_id: 261, city_id: 4\n",
      "business_id: 262, city_id: 4\n",
      "business_id: 263, city_id: 4\n",
      "business_id: 264, city_id: 4\n",
      "business_id: 265, city_id: 5\n",
      "business_id: 266, city_id: 4\n",
      "business_id: 267, city_id: 5\n",
      "business_id: 268, city_id: 4\n",
      "business_id: 269, city_id: 4\n",
      "business_id: 270, city_id: 4\n",
      "business_id: 271, city_id: 2\n",
      "business_id: 272, city_id: 4\n",
      "business_id: 273, city_id: 4\n",
      "business_id: 274, city_id: 4\n",
      "business_id: 275, city_id: 4\n",
      "business_id: 276, city_id: 4\n",
      "business_id: 277, city_id: 4\n",
      "business_id: 278, city_id: 4\n",
      "business_id: 279, city_id: 5\n",
      "business_id: 280, city_id: 4\n",
      "business_id: 281, city_id: 4\n",
      "business_id: 282, city_id: 4\n",
      "business_id: 283, city_id: 4\n",
      "business_id: 284, city_id: 4\n",
      "business_id: 285, city_id: 4\n",
      "business_id: 286, city_id: 5\n",
      "business_id: 287, city_id: 4\n",
      "business_id: 288, city_id: 4\n",
      "business_id: 289, city_id: 4\n",
      "business_id: 290, city_id: 4\n",
      "business_id: 291, city_id: 4\n",
      "business_id: 292, city_id: 4\n",
      "business_id: 293, city_id: 5\n",
      "business_id: 294, city_id: 4\n",
      "business_id: 295, city_id: 4\n",
      "business_id: 296, city_id: 5\n",
      "business_id: 297, city_id: 4\n",
      "business_id: 298, city_id: 4\n",
      "business_id: 299, city_id: 4\n",
      "business_id: 300, city_id: 4\n",
      "business_id: 301, city_id: 4\n",
      "business_id: 302, city_id: 4\n",
      "business_id: 303, city_id: 4\n",
      "business_id: 304, city_id: 4\n",
      "business_id: 305, city_id: 4\n",
      "business_id: 306, city_id: 4\n",
      "business_id: 307, city_id: 4\n",
      "business_id: 308, city_id: 4\n",
      "business_id: 309, city_id: 4\n",
      "business_id: 310, city_id: 4\n",
      "business_id: 311, city_id: 4\n",
      "business_id: 312, city_id: 4\n",
      "business_id: 313, city_id: 4\n",
      "business_id: 314, city_id: 4\n",
      "business_id: 315, city_id: 4\n",
      "business_id: 316, city_id: 4\n",
      "business_id: 317, city_id: 4\n",
      "business_id: 318, city_id: 4\n",
      "business_id: 319, city_id: 4\n",
      "business_id: 320, city_id: 4\n",
      "business_id: 321, city_id: 2\n",
      "business_id: 322, city_id: 4\n",
      "business_id: 323, city_id: 4\n",
      "business_id: 324, city_id: 4\n",
      "business_id: 325, city_id: 4\n",
      "business_id: 326, city_id: 4\n",
      "business_id: 327, city_id: 4\n",
      "business_id: 328, city_id: 4\n",
      "business_id: 329, city_id: 4\n",
      "business_id: 330, city_id: 4\n",
      "business_id: 331, city_id: 4\n",
      "business_id: 332, city_id: 5\n",
      "business_id: 333, city_id: 4\n",
      "business_id: 334, city_id: 4\n",
      "business_id: 335, city_id: 4\n",
      "business_id: 336, city_id: 4\n",
      "business_id: 337, city_id: 4\n",
      "business_id: 338, city_id: 4\n",
      "business_id: 339, city_id: 4\n",
      "business_id: 340, city_id: 4\n",
      "business_id: 341, city_id: 5\n",
      "business_id: 342, city_id: 4\n",
      "business_id: 343, city_id: 4\n",
      "business_id: 344, city_id: 0\n",
      "business_id: 345, city_id: 4\n",
      "business_id: 346, city_id: 4\n",
      "business_id: 347, city_id: 4\n",
      "business_id: 348, city_id: 4\n",
      "business_id: 349, city_id: 4\n",
      "business_id: 350, city_id: 5\n",
      "business_id: 351, city_id: 4\n",
      "business_id: 352, city_id: 4\n",
      "business_id: 353, city_id: 4\n",
      "business_id: 354, city_id: 4\n",
      "business_id: 355, city_id: 4\n",
      "business_id: 356, city_id: 4\n",
      "business_id: 357, city_id: 4\n",
      "business_id: 358, city_id: 4\n",
      "business_id: 359, city_id: 4\n",
      "business_id: 360, city_id: 5\n",
      "business_id: 361, city_id: 4\n",
      "business_id: 362, city_id: 4\n",
      "business_id: 363, city_id: 4\n",
      "business_id: 364, city_id: 4\n",
      "business_id: 365, city_id: 4\n",
      "business_id: 366, city_id: 4\n",
      "business_id: 367, city_id: 4\n",
      "business_id: 368, city_id: 4\n",
      "business_id: 369, city_id: 4\n",
      "business_id: 370, city_id: 4\n",
      "business_id: 371, city_id: 4\n",
      "business_id: 372, city_id: 4\n",
      "business_id: 373, city_id: 4\n",
      "business_id: 374, city_id: 4\n",
      "business_id: 375, city_id: 4\n",
      "business_id: 376, city_id: 5\n",
      "business_id: 377, city_id: 4\n",
      "business_id: 378, city_id: 5\n",
      "business_id: 379, city_id: 4\n",
      "business_id: 380, city_id: 4\n",
      "business_id: 381, city_id: 4\n",
      "business_id: 382, city_id: 4\n",
      "business_id: 383, city_id: 4\n",
      "business_id: 384, city_id: 4\n",
      "business_id: 385, city_id: 4\n",
      "business_id: 386, city_id: 4\n",
      "business_id: 387, city_id: 4\n",
      "business_id: 388, city_id: 4\n",
      "business_id: 389, city_id: 4\n",
      "business_id: 390, city_id: 4\n",
      "business_id: 391, city_id: 4\n",
      "business_id: 392, city_id: 4\n",
      "business_id: 393, city_id: 4\n",
      "business_id: 394, city_id: 4\n",
      "business_id: 395, city_id: 4\n",
      "business_id: 396, city_id: 4\n",
      "business_id: 397, city_id: 4\n",
      "business_id: 398, city_id: 6\n",
      "business_id: 399, city_id: 4\n",
      "business_id: 400, city_id: 4\n",
      "business_id: 401, city_id: 4\n",
      "business_id: 402, city_id: 4\n",
      "business_id: 403, city_id: 5\n",
      "business_id: 404, city_id: 5\n"
     ]
    },
    {
     "name": "stdout",
     "output_type": "stream",
     "text": [
      "business_id: 405, city_id: 4\n",
      "business_id: 406, city_id: 4\n",
      "business_id: 407, city_id: 5\n",
      "business_id: 408, city_id: 4\n",
      "business_id: 409, city_id: 4\n",
      "business_id: 410, city_id: 4\n",
      "business_id: 411, city_id: 4\n",
      "business_id: 412, city_id: 4\n",
      "business_id: 413, city_id: 4\n",
      "business_id: 414, city_id: 4\n",
      "business_id: 415, city_id: 4\n",
      "business_id: 416, city_id: 4\n",
      "business_id: 417, city_id: 4\n",
      "business_id: 418, city_id: 4\n",
      "business_id: 419, city_id: 4\n",
      "business_id: 420, city_id: 4\n",
      "business_id: 421, city_id: 4\n",
      "business_id: 422, city_id: 4\n",
      "business_id: 423, city_id: 4\n",
      "business_id: 424, city_id: 4\n",
      "business_id: 425, city_id: 4\n",
      "business_id: 426, city_id: 4\n",
      "business_id: 427, city_id: 4\n",
      "business_id: 428, city_id: 4\n",
      "business_id: 429, city_id: 4\n",
      "business_id: 430, city_id: 4\n",
      "business_id: 431, city_id: 4\n",
      "business_id: 432, city_id: 4\n",
      "business_id: 433, city_id: 4\n",
      "business_id: 434, city_id: 5\n",
      "business_id: 435, city_id: 4\n",
      "business_id: 436, city_id: 5\n",
      "business_id: 437, city_id: 4\n",
      "business_id: 438, city_id: 4\n",
      "business_id: 439, city_id: 4\n",
      "business_id: 440, city_id: 4\n",
      "business_id: 441, city_id: 5\n",
      "business_id: 442, city_id: 4\n",
      "business_id: 443, city_id: 4\n",
      "business_id: 444, city_id: 5\n",
      "business_id: 445, city_id: 4\n",
      "business_id: 446, city_id: 4\n",
      "business_id: 447, city_id: 4\n",
      "business_id: 448, city_id: 4\n",
      "business_id: 449, city_id: 4\n",
      "business_id: 450, city_id: 4\n",
      "business_id: 451, city_id: 4\n",
      "business_id: 452, city_id: 4\n",
      "business_id: 453, city_id: 4\n",
      "business_id: 454, city_id: 4\n",
      "business_id: 455, city_id: 4\n",
      "business_id: 456, city_id: 4\n",
      "business_id: 457, city_id: 4\n",
      "business_id: 458, city_id: 4\n",
      "business_id: 459, city_id: 4\n",
      "business_id: 460, city_id: 4\n",
      "business_id: 461, city_id: 4\n",
      "business_id: 462, city_id: 4\n",
      "business_id: 463, city_id: 4\n",
      "business_id: 464, city_id: 4\n",
      "business_id: 465, city_id: 4\n",
      "business_id: 466, city_id: 4\n",
      "business_id: 467, city_id: 4\n",
      "business_id: 468, city_id: 4\n",
      "business_id: 469, city_id: 4\n",
      "business_id: 470, city_id: 4\n",
      "business_id: 471, city_id: 4\n",
      "business_id: 472, city_id: 4\n",
      "business_id: 473, city_id: 4\n",
      "business_id: 474, city_id: 4\n",
      "business_id: 475, city_id: 4\n",
      "business_id: 476, city_id: 4\n",
      "business_id: 477, city_id: 4\n",
      "business_id: 478, city_id: 4\n",
      "business_id: 479, city_id: 4\n",
      "business_id: 480, city_id: 4\n",
      "business_id: 481, city_id: 4\n",
      "business_id: 482, city_id: 5\n",
      "business_id: 483, city_id: 4\n",
      "business_id: 484, city_id: 4\n",
      "business_id: 485, city_id: 4\n",
      "business_id: 486, city_id: 5\n",
      "business_id: 487, city_id: 4\n",
      "business_id: 488, city_id: 4\n",
      "business_id: 489, city_id: 4\n",
      "business_id: 490, city_id: 4\n",
      "business_id: 491, city_id: 4\n",
      "business_id: 492, city_id: 4\n",
      "business_id: 493, city_id: 4\n",
      "business_id: 494, city_id: 4\n",
      "business_id: 495, city_id: 4\n",
      "business_id: 496, city_id: 4\n",
      "business_id: 497, city_id: 4\n",
      "business_id: 498, city_id: 4\n",
      "business_id: 499, city_id: 4\n",
      "business_id: 500, city_id: 4\n",
      "business_id: 501, city_id: 4\n",
      "business_id: 502, city_id: 5\n",
      "business_id: 503, city_id: 4\n",
      "business_id: 504, city_id: 4\n",
      "business_id: 505, city_id: 4\n",
      "business_id: 506, city_id: 4\n",
      "business_id: 507, city_id: 5\n",
      "business_id: 508, city_id: 4\n",
      "business_id: 509, city_id: 4\n",
      "business_id: 510, city_id: 4\n",
      "business_id: 511, city_id: 4\n",
      "business_id: 512, city_id: 4\n",
      "business_id: 513, city_id: 4\n",
      "business_id: 514, city_id: 4\n",
      "business_id: 515, city_id: 4\n",
      "business_id: 516, city_id: 4\n",
      "business_id: 517, city_id: 4\n",
      "business_id: 518, city_id: 4\n",
      "business_id: 519, city_id: 4\n",
      "business_id: 520, city_id: 4\n",
      "business_id: 521, city_id: 4\n",
      "business_id: 522, city_id: 4\n",
      "business_id: 523, city_id: 4\n",
      "business_id: 524, city_id: 4\n",
      "business_id: 525, city_id: 4\n",
      "business_id: 526, city_id: 4\n",
      "business_id: 527, city_id: 5\n",
      "business_id: 528, city_id: 4\n",
      "business_id: 529, city_id: 4\n",
      "business_id: 530, city_id: 4\n",
      "business_id: 531, city_id: 5\n",
      "business_id: 532, city_id: 4\n",
      "business_id: 533, city_id: 4\n",
      "business_id: 534, city_id: 4\n",
      "business_id: 535, city_id: 4\n",
      "business_id: 536, city_id: 4\n",
      "business_id: 537, city_id: 4\n",
      "business_id: 538, city_id: 4\n",
      "business_id: 539, city_id: 4\n",
      "business_id: 540, city_id: 4\n",
      "business_id: 541, city_id: 4\n",
      "business_id: 542, city_id: 4\n",
      "business_id: 543, city_id: 4\n",
      "business_id: 544, city_id: 4\n",
      "business_id: 545, city_id: 4\n",
      "business_id: 546, city_id: 4\n",
      "business_id: 547, city_id: 4\n",
      "business_id: 548, city_id: 5\n",
      "business_id: 549, city_id: 4\n",
      "business_id: 550, city_id: 4\n",
      "business_id: 551, city_id: 4\n",
      "business_id: 552, city_id: 4\n",
      "business_id: 553, city_id: 4\n",
      "business_id: 554, city_id: 4\n",
      "business_id: 555, city_id: 5\n",
      "business_id: 556, city_id: 5\n",
      "business_id: 557, city_id: 5\n",
      "business_id: 558, city_id: 4\n",
      "business_id: 559, city_id: 4\n",
      "business_id: 560, city_id: 4\n",
      "business_id: 561, city_id: 4\n",
      "business_id: 562, city_id: 5\n",
      "business_id: 563, city_id: 4\n",
      "business_id: 564, city_id: 4\n",
      "business_id: 565, city_id: 4\n",
      "business_id: 566, city_id: 4\n",
      "business_id: 567, city_id: 5\n",
      "business_id: 568, city_id: 4\n",
      "business_id: 569, city_id: 4\n",
      "business_id: 570, city_id: 4\n",
      "business_id: 571, city_id: 4\n",
      "business_id: 572, city_id: 4\n",
      "business_id: 573, city_id: 4\n",
      "business_id: 574, city_id: 4\n",
      "business_id: 575, city_id: 4\n",
      "business_id: 576, city_id: 4\n",
      "business_id: 577, city_id: 4\n",
      "business_id: 578, city_id: 4\n",
      "business_id: 579, city_id: 5\n",
      "business_id: 580, city_id: 4\n",
      "business_id: 581, city_id: 4\n",
      "business_id: 582, city_id: 4\n",
      "business_id: 583, city_id: 4\n",
      "business_id: 584, city_id: 4\n",
      "business_id: 585, city_id: 4\n",
      "business_id: 586, city_id: 4\n",
      "business_id: 587, city_id: 4\n",
      "business_id: 588, city_id: 4\n",
      "business_id: 589, city_id: 4\n",
      "business_id: 590, city_id: 4\n",
      "business_id: 591, city_id: 4\n",
      "business_id: 592, city_id: 4\n",
      "business_id: 593, city_id: 4\n",
      "business_id: 594, city_id: 4\n",
      "business_id: 595, city_id: 4\n",
      "business_id: 596, city_id: 4\n",
      "business_id: 597, city_id: 4\n",
      "business_id: 598, city_id: 4\n",
      "business_id: 599, city_id: 4\n",
      "business_id: 600, city_id: 4\n",
      "business_id: 601, city_id: 4\n",
      "business_id: 602, city_id: 4\n",
      "business_id: 603, city_id: 4\n",
      "business_id: 604, city_id: 4\n",
      "business_id: 605, city_id: 4\n",
      "business_id: 606, city_id: 5\n",
      "business_id: 607, city_id: 4\n",
      "business_id: 608, city_id: 4\n",
      "business_id: 609, city_id: 4\n",
      "business_id: 610, city_id: 4\n",
      "business_id: 611, city_id: 4\n",
      "business_id: 612, city_id: 4\n",
      "business_id: 613, city_id: 4\n",
      "business_id: 614, city_id: 4\n",
      "business_id: 615, city_id: 4\n",
      "business_id: 616, city_id: 4\n",
      "business_id: 617, city_id: 4\n",
      "business_id: 618, city_id: 4\n",
      "business_id: 619, city_id: 4\n",
      "business_id: 620, city_id: 4\n",
      "business_id: 621, city_id: 4\n",
      "business_id: 622, city_id: 4\n",
      "business_id: 623, city_id: 5\n",
      "business_id: 624, city_id: 5\n",
      "business_id: 625, city_id: 4\n",
      "business_id: 626, city_id: 4\n",
      "business_id: 627, city_id: 4\n",
      "business_id: 628, city_id: 4\n",
      "business_id: 629, city_id: 4\n",
      "business_id: 630, city_id: 4\n",
      "business_id: 631, city_id: 4\n",
      "business_id: 632, city_id: 4\n",
      "business_id: 633, city_id: 4\n",
      "business_id: 634, city_id: 4\n",
      "business_id: 635, city_id: 4\n",
      "business_id: 636, city_id: 4\n"
     ]
    }
   ],
   "source": [
    "# get adj matrices\n",
    "adj_UB, adj_UUB, adj_UBUB, adj_UBCaB, adj_UBCiB \\\n",
    "    = get_adj_matrix(uid2ind, bid2ind, ct_id2ind, ca_id2ind, users, businesses, train_data)"
   ]
  },
  {
   "cell_type": "code",
   "execution_count": 25,
   "metadata": {},
   "outputs": [
    {
     "name": "stdout",
     "output_type": "stream",
     "text": [
      "(648, 637)\n",
      "(648, 637)\n",
      "[[395.  92. 110. ... 361. 216. 454.]\n",
      " [100.  14.  21. ...  92.  58. 107.]\n",
      " [182.  46.  54. ... 195. 102. 214.]\n",
      " ...\n",
      " [ 91.  26.  22. ...  79.  47.  95.]\n",
      " [387.  86. 109. ... 353. 224. 415.]\n",
      " [114.  70.  19. ... 170.  65. 116.]]\n"
     ]
    }
   ],
   "source": [
    "print(adj_UB.shape)\n",
    "print(adj_UBCaB.shape)\n",
    "print(adj_UBCaB[0:100][0:100])"
   ]
  },
  {
   "cell_type": "code",
   "execution_count": 26,
   "metadata": {},
   "outputs": [],
   "source": [
    "adjs = [adj_UB, adj_UUB, adj_UBUB, adj_UBCaB, adj_UBCiB]\n",
    "filenames = ['adj_UB', 'adj_UUB', 'adj_UBUB', 'adj_UBCaB', 'adj_UBCiB']\n",
    "path = '../yelp_dataset/adjs/'\n",
    "for adj, file in zip(adjs, filenames):\n",
    "    write_pickle(path+file+'.pickle', adj)"
   ]
  },
  {
   "cell_type": "code",
   "execution_count": 27,
   "metadata": {},
   "outputs": [],
   "source": [
    "filenames = ['uid2ind', 'bid2ind', 'ct_id2ind', 'ca_id2ind', 'ind2uid', 'ind2bid', 'ind2ct_id', 'ind2ca_id']\n",
    "maps = [uid2ind, bid2ind, ct_id2ind, ca_id2ind, ind2uid, ind2bid, ind2ct_id, ind2ca_id]\n",
    "path = '../yelp_dataset/adjs/'\n",
    "for mapping, file in zip(maps, filenames):\n",
    "    write_pickle(path+file+'.pickle', mapping)"
   ]
  },
  {
   "cell_type": "markdown",
   "metadata": {},
   "source": [
    "# Experiments"
   ]
  },
  {
   "cell_type": "code",
   "execution_count": 8,
   "metadata": {},
   "outputs": [],
   "source": [
    "# load dictionaries\n",
    "path = '../yelp_dataset/adjs/'\n",
    "uid2ind = read_pickle(path+'uid2ind.pickle')\n",
    "bid2ind = read_pickle(path+'bid2ind.pickle')\n",
    "ct_id2ind = read_pickle(path+'ct_id2ind.pickle')\n",
    "ca_id2ind = read_pickle(path+'ca_id2ind.pickle')\n",
    "ind2uid = read_pickle(path+'ind2uid.pickle')\n",
    "ind2bid = read_pickle(path+'ind2bid.pickle')\n",
    "ind2ct_id = read_pickle(path+'ind2ct_id.pickle')\n",
    "ind2ca_id = read_pickle(path+'ind2ca_id.pickle')"
   ]
  },
  {
   "cell_type": "code",
   "execution_count": 30,
   "metadata": {},
   "outputs": [
    {
     "ename": "NameError",
     "evalue": "name 'reviews' is not defined",
     "output_type": "error",
     "traceback": [
      "\u001b[0;31m---------------------------------------------------------------------------\u001b[0m",
      "\u001b[0;31mNameError\u001b[0m                                 Traceback (most recent call last)",
      "\u001b[0;32m<ipython-input-30-7a20883811de>\u001b[0m in \u001b[0;36m<module>\u001b[0;34m\u001b[0m\n\u001b[0;32m----> 1\u001b[0;31m \u001b[0;32mdel\u001b[0m \u001b[0mreviews\u001b[0m\u001b[0;34m\u001b[0m\u001b[0m\n\u001b[0m",
      "\u001b[0;31mNameError\u001b[0m: name 'reviews' is not defined"
     ]
    }
   ],
   "source": [
    "del reviews"
   ]
  },
  {
   "cell_type": "code",
   "execution_count": 112,
   "metadata": {},
   "outputs": [
    {
     "name": "stdout",
     "output_type": "stream",
     "text": [
      "<class 'list'>\n"
     ]
    }
   ],
   "source": [
    "train_data = read_pickle('../yelp_dataset/rates/train_data.pickle')\n",
    "print(type(train_data))"
   ]
  },
  {
   "cell_type": "code",
   "execution_count": 113,
   "metadata": {},
   "outputs": [
    {
     "name": "stdout",
     "output_type": "stream",
     "text": [
      "{'business_id': 181, 'rate': 1.0, 'user_id': 21, 'timestamp': 1116877827.0}\n"
     ]
    }
   ],
   "source": [
    "print(train_data[0])"
   ]
  },
  {
   "cell_type": "code",
   "execution_count": 99,
   "metadata": {},
   "outputs": [],
   "source": [
    "def make_embedding(user_features, item_features):\n",
    "    user_concat = torch.cat(user_features, 1)\n",
    "    item_concat = torch.cat(item_features, 1)\n",
    "    X = []\n",
    "    for user in user_concat:\n",
    "        tmp = [torch.cat([user,item], 0).unsqueeze(0) for item in item_concat]\n",
    "        print(\"tmp[0].shape\", tmp[0].shape)\n",
    "        tmp = torch.cat(tmp, 0)\n",
    "        X.append(tmp)\n",
    "    X = torch.cat(X, 0)\n",
    "    return X"
   ]
  },
  {
   "cell_type": "code",
   "execution_count": 3,
   "metadata": {},
   "outputs": [],
   "source": [
    "def load_feature(feature_path, metapaths):\n",
    "    user_features = [read_pickle(feature_path+metapath+'_user.pickle') for metapath in metapaths]\n",
    "    item_features = [read_pickle(feature_path+metapath+'_item.pickle') for metapath in metapaths]\n",
    "        \n",
    "    return user_features, item_features\n"
   ]
  },
  {
   "cell_type": "code",
   "execution_count": 106,
   "metadata": {},
   "outputs": [],
   "source": [
    "def make_labels(Y, n_user, n_item):\n",
    "    r\"\"\"\n",
    "    Parameter\n",
    "    ---------\n",
    "    Y: list of dict\n",
    "        saves the interaction information in COO form\n",
    "    \n",
    "    Return\n",
    "    ------\n",
    "    ret: torch.tensor\n",
    "        still in COO form\n",
    "    \"\"\"\n",
    "    indices = np.array(([y['user_id'] for y in Y], [y['business_id'] for y in Y]))\n",
    "    values = np.array([1. for y in Y])\n",
    "    device = torch.device('cuda:0' if torch.cuda.is_available() else 'cpu')\n",
    "    ret = torch.sparse_coo_tensor(indices, values, size=(n_user,n_item),\n",
    "                                  dtype=torch.float32, device=device, requires_grad=False)\n",
    "    return ret"
   ]
  },
  {
   "cell_type": "code",
   "execution_count": 115,
   "metadata": {
    "scrolled": true
   },
   "outputs": [
    {
     "name": "stdout",
     "output_type": "stream",
     "text": [
      "torch.Size([648, 637])\n",
      "tensor(indices=tensor([[ 21,  99,  99,  ..., 530, 568, 118],\n",
      "                       [181, 569, 290,  ...,  34,   9, 201]]),\n",
      "       values=tensor([1., 1., 1.,  ..., 1., 1., 1.]),\n",
      "       device='cuda:0', size=(648, 637), nnz=36692, layout=torch.sparse_coo)\n",
      "<class 'torch.Tensor'>\n",
      "tensor([[0., 0., 0.,  ..., 1., 1., 0.],\n",
      "        [0., 0., 0.,  ..., 0., 0., 1.],\n",
      "        [0., 0., 0.,  ..., 0., 0., 0.],\n",
      "        ...,\n",
      "        [0., 0., 0.,  ..., 0., 0., 0.],\n",
      "        [0., 0., 0.,  ..., 0., 0., 0.],\n",
      "        [0., 0., 0.,  ..., 0., 0., 0.]], device='cuda:0')\n"
     ]
    },
    {
     "data": {
      "text/plain": [
       "tensor([0., 0., 0., 0.], device='cuda:0')"
      ]
     },
     "execution_count": 115,
     "metadata": {},
     "output_type": "execute_result"
    }
   ],
   "source": [
    "Y = make_labels(train_data, 648, 637)\n",
    "print(Y.shape)\n",
    "print(Y)\n",
    "print(type(Y))\n",
    "dense = Y.to_dense()\n",
    "x = [0, 1, 2, 3]\n",
    "y = [0, 1, 2, 3]\n",
    "print(dense)\n",
    "dense[x, y]\n",
    "# print(dense[99])"
   ]
  },
  {
   "cell_type": "code",
   "execution_count": 4,
   "metadata": {},
   "outputs": [],
   "source": [
    "featurepath = '../yelp_dataset/mf_features/'\n",
    "metapaths = ['UB', 'UUB', 'UBUB', 'UBCaB', 'UBCiB']"
   ]
  },
  {
   "cell_type": "code",
   "execution_count": 8,
   "metadata": {},
   "outputs": [],
   "source": [
    "user_features, item_features = load_feature(featurepath, metapaths)"
   ]
  },
  {
   "cell_type": "code",
   "execution_count": 104,
   "metadata": {
    "scrolled": false
   },
   "outputs": [
    {
     "name": "stdout",
     "output_type": "stream",
     "text": [
      "user_features: (tensor([[0., 0., 0.],\n",
      "        [0., 0., 0.],\n",
      "        [0., 0., 0.]]), tensor([[0., 0., 0.],\n",
      "        [0., 0., 0.],\n",
      "        [0., 0., 0.]]))\n",
      "tensor([[0., 0.],\n",
      "        [0., 0.],\n",
      "        [0., 0.]])\n",
      "user_concat: tensor([[0., 0., 0., 0., 0., 0.],\n",
      "        [0., 0., 0., 0., 0., 0.],\n",
      "        [0., 0., 0., 0., 0., 0.]])\n",
      "item_concat: tensor([[1., 1., 1., 1., 1., 1.],\n",
      "        [1., 1., 1., 1., 1., 1.],\n",
      "        [1., 1., 1., 1., 1., 1.],\n",
      "        [1., 1., 1., 1., 1., 1.],\n",
      "        [1., 1., 1., 1., 1., 1.]])\n",
      "tensor([0., 0., 0., 0., 0., 0.]) tensor([1., 1., 1., 1., 1., 1.])\n",
      "tensor([[[0., 0., 0.],\n",
      "         [0., 0., 0.]]]) tensor([[[1., 1., 1.],\n",
      "         [1., 1., 1.]]])\n",
      "ui_concat: tensor([[[0., 0., 0.],\n",
      "         [0., 0., 0.],\n",
      "         [1., 1., 1.],\n",
      "         [1., 1., 1.]]])\n"
     ]
    }
   ],
   "source": [
    "# this is for test\n",
    "user_features = tuple(torch.Tensor(np.zeros((3, 3))) for i in range(2)) # two 3*3 matrices\n",
    "item_features = tuple(torch.Tensor(np.ones((5, 3))) for i in range(2))  # two 5*3 matrices\n",
    "\n",
    "print(\"user_features:\", user_features)\n",
    "\n",
    "user_concat = torch.cat(user_features, 1)\n",
    "print(user_concat[:, 0:2])\n",
    "print(\"user_concat:\", user_concat)\n",
    "item_concat = torch.cat(item_features, 1)\n",
    "print(\"item_concat:\", item_concat)\n",
    "user = user_concat[0]\n",
    "item = item_concat[0]\n",
    "print(user, item)\n",
    "user = user_concat[0].view(1, 2, 3)\n",
    "item = item_concat[0].view(1, 2, 3)\n",
    "print(user, item)\n",
    "ui_concat = torch.cat([user, item], 1)\n",
    "print(\"ui_concat:\", ui_concat)"
   ]
  },
  {
   "cell_type": "code",
   "execution_count": 100,
   "metadata": {},
   "outputs": [
    {
     "name": "stdout",
     "output_type": "stream",
     "text": [
      "tmp[0].shape torch.Size([1, 12])\n",
      "tmp[0].shape torch.Size([1, 12])\n",
      "tmp[0].shape torch.Size([1, 12])\n",
      "tensor([[0., 0., 0., 0., 0., 0., 1., 1., 1., 1., 1., 1.],\n",
      "        [0., 0., 0., 0., 0., 0., 1., 1., 1., 1., 1., 1.],\n",
      "        [0., 0., 0., 0., 0., 0., 1., 1., 1., 1., 1., 1.],\n",
      "        [0., 0., 0., 0., 0., 0., 1., 1., 1., 1., 1., 1.],\n",
      "        [0., 0., 0., 0., 0., 0., 1., 1., 1., 1., 1., 1.],\n",
      "        [0., 0., 0., 0., 0., 0., 1., 1., 1., 1., 1., 1.],\n",
      "        [0., 0., 0., 0., 0., 0., 1., 1., 1., 1., 1., 1.],\n",
      "        [0., 0., 0., 0., 0., 0., 1., 1., 1., 1., 1., 1.],\n",
      "        [0., 0., 0., 0., 0., 0., 1., 1., 1., 1., 1., 1.],\n",
      "        [0., 0., 0., 0., 0., 0., 1., 1., 1., 1., 1., 1.],\n",
      "        [0., 0., 0., 0., 0., 0., 1., 1., 1., 1., 1., 1.],\n",
      "        [0., 0., 0., 0., 0., 0., 1., 1., 1., 1., 1., 1.],\n",
      "        [0., 0., 0., 0., 0., 0., 1., 1., 1., 1., 1., 1.],\n",
      "        [0., 0., 0., 0., 0., 0., 1., 1., 1., 1., 1., 1.],\n",
      "        [0., 0., 0., 0., 0., 0., 1., 1., 1., 1., 1., 1.]])\n"
     ]
    }
   ],
   "source": [
    "X = make_embedding(user_features, item_features)\n",
    "print(X)"
   ]
  },
  {
   "cell_type": "code",
   "execution_count": 61,
   "metadata": {},
   "outputs": [
    {
     "name": "stdout",
     "output_type": "stream",
     "text": [
      "torch.Size([648, 637, 100])\n"
     ]
    }
   ],
   "source": [
    "print(X.shape)"
   ]
  },
  {
   "cell_type": "code",
   "execution_count": 6,
   "metadata": {},
   "outputs": [],
   "source": [
    "def filter_rare_node(users, businesses, reviews, user_threshold, business_threshold, friend_threshold):\n",
    "    continue_filter = True\n",
    "    filtered_users = set()\n",
    "    filtered_businesses = set()\n",
    "    while(continue_filter):\n",
    "        continue_filter = False\n",
    "        user_interact_num = {}\n",
    "        business_interact_num = {}\n",
    "        user_business_interact = set()\n",
    "        for review in reviews:\n",
    "            if not review['date']:\n",
    "                continue\n",
    "            user_id = review['user_id']\n",
    "            business_id = review['business_id']\n",
    "            user_business = str(user_id)+str(business_id)\n",
    "            if user_business not in user_business_interact:\n",
    "                user_interact_num[user_id] = user_interact_num.get(user_id, 0) + 1\n",
    "                business_interact_num[business_id] = business_interact_num.get(business_id, 0) + 1\n",
    "                user_business_interact.add(user_business)\n",
    "        filtered_review_users = set(u for u in user_interact_num.keys() if user_interact_num[u]>=user_threshold)\n",
    "        filtered_review_businesses = set(b for b in business_interact_num.keys() if business_interact_num[b]>=business_threshold)\n",
    "        if (filtered_users != filtered_review_users) or (filtered_businesses != filtered_review_businesses):\n",
    "            continue_filter = True\n",
    "        # filter step 2\n",
    "        #filter user and business\n",
    "        user_friends_dict = {}\n",
    "        for user in users:\n",
    "            user_id = user['user_id']\n",
    "            if user_id not in filtered_review_users:\n",
    "                continue\n",
    "            if not user['friends']:\n",
    "                continue\n",
    "            filtered_friends = [friend.strip() for friend in user['friends'].split(',') if friend.strip() in filtered_review_users]\n",
    "            if len(filtered_friends) >= friend_threshold:\n",
    "                user_friends_dict[user_id] = filtered_friends\n",
    "        continue_inside = True\n",
    "        while (continue_inside):\n",
    "            friends = {}\n",
    "            continue_inside = False\n",
    "            for user, user_friends in user_friends_dict.items():\n",
    "                filtered_friends = [friend for friend in user_friends if friend in user_friends_dict]\n",
    "                if len(filtered_friends) >= friend_threshold:\n",
    "                    friends[user] = filtered_friends\n",
    "                else:\n",
    "                    continue_inside = True\n",
    "            user_friends_dict = deepcopy(friends)\n",
    "        filtered_users = set(user_friends_dict.keys())\n",
    "        filtered_businesses_list = []\n",
    "        for business in businesses:\n",
    "            business_id = business['business_id']\n",
    "            if business_id not in filtered_review_businesses:\n",
    "                continue\n",
    "            if not business['categories']:\n",
    "                continue\n",
    "            if not business['city']:\n",
    "                continue\n",
    "            filtered_businesses_list.append(business_id)\n",
    "        filtered_businesses = set(filtered_businesses_list)\n",
    "        filtered_review = []\n",
    "        user_business_interact = set()\n",
    "        for review in reviews:\n",
    "            if not review['date']:\n",
    "                continue\n",
    "            if (review['user_id'] in filtered_users) and (review['business_id'] in filtered_businesses):\n",
    "                user_id = review['user_id']\n",
    "                business_id = review['business_id']\n",
    "                user_business = str(user_id) + str(business_id)\n",
    "                if user_business not in user_business_interact:\n",
    "                    filtered_review.append(review)\n",
    "                    user_business_interact.add(user_business)\n",
    "        reviews = deepcopy(filtered_review)\n",
    "        print(len(list(filtered_users)))\n",
    "        print(len(list(filtered_businesses)))\n",
    "        print(len(reviews))\n",
    "        print('filter loop')\n",
    "    print('filter complete')\n",
    "    return filtered_users, filtered_businesses, filtered_review\n"
   ]
  },
  {
   "cell_type": "code",
   "execution_count": 24,
   "metadata": {
    "scrolled": true
   },
   "outputs": [
    {
     "name": "stdout",
     "output_type": "stream",
     "text": [
      "5647\n",
      "5153\n",
      "349913\n",
      "filter loop\n",
      "3613\n",
      "3426\n",
      "236230\n",
      "filter loop\n",
      "2707\n",
      "2445\n",
      "174828\n",
      "filter loop\n",
      "2095\n",
      "1953\n",
      "139223\n",
      "filter loop\n",
      "1727\n",
      "1574\n",
      "115435\n",
      "filter loop\n",
      "1451\n",
      "1350\n",
      "100099\n",
      "filter loop\n",
      "1277\n",
      "1222\n",
      "89362\n",
      "filter loop\n",
      "1171\n",
      "1082\n",
      "80145\n",
      "filter loop\n",
      "1032\n",
      "986\n",
      "71864\n",
      "filter loop\n",
      "946\n",
      "881\n",
      "65722\n",
      "filter loop\n",
      "864\n",
      "816\n",
      "61480\n",
      "filter loop\n",
      "818\n",
      "784\n",
      "58698\n",
      "filter loop\n",
      "796\n",
      "764\n",
      "57019\n",
      "filter loop\n",
      "770\n",
      "743\n",
      "55129\n",
      "filter loop\n",
      "751\n",
      "725\n",
      "53627\n",
      "filter loop\n",
      "735\n",
      "709\n",
      "52327\n",
      "filter loop\n",
      "713\n",
      "703\n",
      "51216\n",
      "filter loop\n",
      "711\n",
      "690\n",
      "50583\n",
      "filter loop\n",
      "691\n",
      "689\n",
      "49752\n",
      "filter loop\n",
      "691\n",
      "672\n",
      "49025\n",
      "filter loop\n",
      "679\n",
      "672\n",
      "48564\n",
      "filter loop\n",
      "679\n",
      "659\n",
      "48005\n",
      "filter loop\n",
      "662\n",
      "659\n",
      "47346\n",
      "filter loop\n",
      "662\n",
      "644\n",
      "46705\n",
      "filter loop\n",
      "652\n",
      "644\n",
      "46319\n",
      "filter loop\n",
      "652\n",
      "638\n",
      "46064\n",
      "filter loop\n",
      "649\n",
      "638\n",
      "45947\n",
      "filter loop\n",
      "649\n",
      "637\n",
      "45904\n",
      "filter loop\n",
      "648\n",
      "637\n",
      "45865\n",
      "filter loop\n",
      "648\n",
      "637\n",
      "45865\n",
      "filter loop\n",
      "filter complete\n",
      "648\n",
      "637\n",
      "45865\n"
     ]
    }
   ],
   "source": [
    "from copy import deepcopy\n",
    "users_small, busi_small, reviews_small = filter_rare_node(users, businesses, reviews, 40, 44, 4)\n",
    "print(len(users_small))\n",
    "print(len(busi_small))\n",
    "print(len(reviews_small))"
   ]
  },
  {
   "cell_type": "code",
   "execution_count": 20,
   "metadata": {},
   "outputs": [
    {
     "name": "stdout",
     "output_type": "stream",
     "text": [
      "648\n",
      "dict_keys(['elite', 'yelping_since', 'friends', 'average_stars', 'review_count', 'compliment_cute', 'compliment_note', 'user_id', 'compliment_hot', 'compliment_more', 'compliment_cool', 'cool', 'compliment_plain', 'compliment_funny', 'compliment_writer', 'fans', 'compliment_photos', 'compliment_list', 'name', 'compliment_profile', 'useful', 'funny'])\n"
     ]
    }
   ],
   "source": [
    "users_small = []\n",
    "for user in users_comp:\n",
    "    for u in users:\n",
    "        if user['user_id'] == u:\n",
    "            users_small.append(user)\n",
    "print(len(users_small))\n",
    "print(users_small[0].keys())"
   ]
  },
  {
   "cell_type": "code",
   "execution_count": 21,
   "metadata": {},
   "outputs": [
    {
     "name": "stdout",
     "output_type": "stream",
     "text": [
      "637\n",
      "dict_keys(['categories', 'is_open', 'hours', 'attributes', 'address', 'longitude', 'name', 'state', 'postal_code', 'latitude', 'business_id', 'review_count', 'stars', 'city'])\n"
     ]
    }
   ],
   "source": [
    "busi_small = []\n",
    "for busi in busi_comp:\n",
    "    for b in businesses:\n",
    "        if busi['business_id'] == b:\n",
    "            busi_small.append(busi)\n",
    "print(len(busi_small))\n",
    "print(busi_small[0].keys())"
   ]
  },
  {
   "cell_type": "code",
   "execution_count": 22,
   "metadata": {},
   "outputs": [],
   "source": [
    "write_pickle('../yelp_dataset/filtered/users-small.pickle', users_small)"
   ]
  },
  {
   "cell_type": "code",
   "execution_count": 23,
   "metadata": {},
   "outputs": [],
   "source": [
    "write_pickle('../yelp_dataset/filtered/businesses-small.pickle', busi_small)"
   ]
  },
  {
   "cell_type": "code",
   "execution_count": 27,
   "metadata": {},
   "outputs": [],
   "source": [
    "write_pickle('../yelp_dataset/filtered/reviews-small.pickle', reviews_small)"
   ]
  },
  {
   "cell_type": "code",
   "execution_count": 26,
   "metadata": {},
   "outputs": [
    {
     "name": "stdout",
     "output_type": "stream",
     "text": [
      "<class 'numpy.ndarray'>\n"
     ]
    }
   ],
   "source": [
    "# test sparsity\n",
    "adj = read_pickle('../yelp_dataset/adjs/adj_UBCiB.pickle')\n",
    "print(type(adj))\n",
    "# for i in adj_UB"
   ]
  },
  {
   "cell_type": "code",
   "execution_count": 27,
   "metadata": {},
   "outputs": [],
   "source": [
    "import scipy.sparse as sp\n",
    "sparse = sp.csr_matrix(adj)"
   ]
  },
  {
   "cell_type": "code",
   "execution_count": 28,
   "metadata": {},
   "outputs": [
    {
     "name": "stdout",
     "output_type": "stream",
     "text": [
      "0.9474751439037153\n"
     ]
    }
   ],
   "source": [
    "nnz = sparse.nnz\n",
    "size = adj.shape[0] * adj.shape[1]\n",
    "print(nnz / size)"
   ]
  },
  {
   "cell_type": "markdown",
   "metadata": {},
   "source": [
    "注意到除了UB的稠密度只有0.08，其余的都有至少0.85以上，说明metapath的邻接矩阵实际上很稠密"
   ]
  },
  {
   "cell_type": "code",
   "execution_count": 62,
   "metadata": {},
   "outputs": [
    {
     "name": "stdout",
     "output_type": "stream",
     "text": [
      "tensor([[10.],\n",
      "        [10.],\n",
      "        [10.],\n",
      "        [ 7.],\n",
      "        [10.],\n",
      "        [10.],\n",
      "        [10.],\n",
      "        [10.],\n",
      "        [10.],\n",
      "        [10.]])\n",
      "tensor([[1., 1., 1., 3., 1.],\n",
      "        [1., 1., 1., 3., 1.],\n",
      "        [1., 1., 1., 3., 1.],\n",
      "        [1., 1., 1., 3., 1.],\n",
      "        [1., 1., 1., 3., 1.],\n",
      "        [1., 1., 1., 3., 1.],\n",
      "        [1., 1., 1., 3., 1.],\n",
      "        [1., 1., 1., 3., 1.],\n",
      "        [1., 1., 1., 3., 1.],\n",
      "        [1., 1., 1., 3., 1.]])\n",
      "tensor([[70.],\n",
      "        [70.],\n",
      "        [70.],\n",
      "        [49.],\n",
      "        [70.],\n",
      "        [70.],\n",
      "        [70.],\n",
      "        [70.],\n",
      "        [70.],\n",
      "        [70.]])\n",
      "torch.Size([])\n",
      "tensor(679.)\n"
     ]
    }
   ],
   "source": [
    "x = torch.ones(10)*10\n",
    "x[3] = 7\n",
    "x = x.unsqueeze(1)\n",
    "print(x)\n",
    "V = torch.ones(10, 5)\n",
    "V[:, 3] *= 3\n",
    "print(V)\n",
    "# print(torch.matmul(x, V))\n",
    "out = torch.mul(x, V).sum(1, keepdim=True)\n",
    "print(out)\n",
    "out_t = out.sum(0).squeeze()\n",
    "print(out_t.size())\n",
    "print(out_t)"
   ]
  },
  {
   "cell_type": "code",
   "execution_count": 64,
   "metadata": {},
   "outputs": [
    {
     "name": "stdout",
     "output_type": "stream",
     "text": [
      "tensor([[ 679., -679.,  679., -679.]])\n",
      "tensor(-679.)\n"
     ]
    },
    {
     "ename": "AttributeError",
     "evalue": "'Tensor' object has no attribute 'astype'",
     "output_type": "error",
     "traceback": [
      "\u001b[0;31m---------------------------------------------------------------------------\u001b[0m",
      "\u001b[0;31mAttributeError\u001b[0m                            Traceback (most recent call last)",
      "\u001b[0;32m<ipython-input-64-8f24a8f8732d>\u001b[0m in \u001b[0;36m<module>\u001b[0;34m\u001b[0m\n\u001b[1;32m      3\u001b[0m \u001b[0mout_t\u001b[0m\u001b[0;34m[\u001b[0m\u001b[0;36m0\u001b[0m\u001b[0;34m]\u001b[0m\u001b[0;34m[\u001b[0m\u001b[0;36m1\u001b[0m\u001b[0;34m]\u001b[0m \u001b[0;34m=\u001b[0m \u001b[0;34m-\u001b[0m\u001b[0mout_t\u001b[0m\u001b[0;34m[\u001b[0m\u001b[0;36m0\u001b[0m\u001b[0;34m]\u001b[0m\u001b[0;34m[\u001b[0m\u001b[0;36m0\u001b[0m\u001b[0;34m]\u001b[0m\u001b[0;34m\u001b[0m\u001b[0m\n\u001b[1;32m      4\u001b[0m \u001b[0mprint\u001b[0m\u001b[0;34m(\u001b[0m\u001b[0mout_t\u001b[0m\u001b[0;34m[\u001b[0m\u001b[0;36m0\u001b[0m\u001b[0;34m]\u001b[0m\u001b[0;34m[\u001b[0m\u001b[0;36m1\u001b[0m\u001b[0;34m]\u001b[0m\u001b[0;34m)\u001b[0m\u001b[0;34m\u001b[0m\u001b[0m\n\u001b[0;32m----> 5\u001b[0;31m \u001b[0mprint\u001b[0m\u001b[0;34m(\u001b[0m\u001b[0mout_t\u001b[0m\u001b[0;34m.\u001b[0m\u001b[0mastype\u001b[0m\u001b[0;34m(\u001b[0m\u001b[0mtorch\u001b[0m\u001b[0;34m.\u001b[0m\u001b[0mLongTensor\u001b[0m\u001b[0;34m)\u001b[0m\u001b[0;34m)\u001b[0m\u001b[0;34m\u001b[0m\u001b[0m\n\u001b[0m",
      "\u001b[0;31mAttributeError\u001b[0m: 'Tensor' object has no attribute 'astype'"
     ]
    }
   ],
   "source": [
    "out_t = out_t.repeat(1, 2)\n",
    "print(out_t)\n",
    "out_t[0][1] = -out_t[0][0]\n",
    "print(out_t[0][1])\n",
    "print(out_t)"
   ]
  },
  {
   "cell_type": "code",
   "execution_count": 141,
   "metadata": {},
   "outputs": [],
   "source": [
    "valid_data = read_pickle('../yelp_dataset/rates/valid_with_neg_sample.pickle')"
   ]
  },
  {
   "cell_type": "code",
   "execution_count": 157,
   "metadata": {
    "scrolled": false
   },
   "outputs": [
    {
     "data": {
      "text/plain": [
       "dtype('int64')"
      ]
     },
     "execution_count": 157,
     "metadata": {},
     "output_type": "execute_result"
    }
   ],
   "source": [
    "pos = [[y['user_id'], pos_id, 1] for y in valid_data for pos_id in y['pos_business_id']]\n",
    "neg = [[y['user_id'], neg_id, 0] for y in valid_data for neg_id in y['neg_business_id']]\n",
    "ret = pos + neg\n",
    "ret[0:100]\n",
    "ret_array = np.array(ret, dtype=np.int64)\n",
    "ret_array.dtype"
   ]
  },
  {
   "cell_type": "code",
   "execution_count": 19,
   "metadata": {},
   "outputs": [
    {
     "data": {
      "text/plain": [
       "array([0, 1, 2, 3, 4, 5, 6, 7, 8, 9])"
      ]
     },
     "execution_count": 19,
     "metadata": {},
     "output_type": "execute_result"
    }
   ],
   "source": [
    "t_set = set(i for i in range(10))\n",
    "# t_set = [i for i in range(10)]\n",
    "t_array = np.asarray(list(t_set))\n",
    "t_array"
   ]
  },
  {
   "cell_type": "code",
   "execution_count": null,
   "metadata": {},
   "outputs": [],
   "source": []
  }
 ],
 "metadata": {
  "kernelspec": {
   "display_name": "Python 3.5.2 64-bit ('temp_model': venv)",
   "language": "python",
   "name": "python35264bittempmodelvenv9ec91898f3ff45aa8e0abdb47861d6d1"
  },
  "language_info": {
   "codemirror_mode": {
    "name": "ipython",
    "version": 3
   },
   "file_extension": ".py",
   "mimetype": "text/x-python",
   "name": "python",
   "nbconvert_exporter": "python",
   "pygments_lexer": "ipython3",
   "version": "3.5.2"
  }
 },
 "nbformat": 4,
 "nbformat_minor": 2
}
